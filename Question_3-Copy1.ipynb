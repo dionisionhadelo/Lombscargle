{
 "cells": [
  {
   "cell_type": "code",
   "execution_count": 13,
   "metadata": {},
   "outputs": [],
   "source": [
    "import numpy as np\n",
    "import pandas as pd\n",
    "import matplotlib\n",
    "import matplotlib.pyplot as plt\n",
    "from astropy.timeseries import LombScargle"
   ]
  },
  {
   "cell_type": "code",
   "execution_count": 2,
   "metadata": {},
   "outputs": [],
   "source": [
    "data = pd.read_fwf('variable.dat')\n",
    "#data"
   ]
  },
  {
   "cell_type": "code",
   "execution_count": 3,
   "metadata": {},
   "outputs": [
    {
     "data": {
      "text/html": [
       "<div>\n",
       "<style scoped>\n",
       "    .dataframe tbody tr th:only-of-type {\n",
       "        vertical-align: middle;\n",
       "    }\n",
       "\n",
       "    .dataframe tbody tr th {\n",
       "        vertical-align: top;\n",
       "    }\n",
       "\n",
       "    .dataframe thead th {\n",
       "        text-align: right;\n",
       "    }\n",
       "</style>\n",
       "<table border=\"1\" class=\"dataframe\">\n",
       "  <thead>\n",
       "    <tr style=\"text-align: right;\">\n",
       "      <th></th>\n",
       "      <th>time_days</th>\n",
       "      <th>magnitude</th>\n",
       "      <th>error</th>\n",
       "    </tr>\n",
       "  </thead>\n",
       "  <tbody>\n",
       "    <tr>\n",
       "      <th>0</th>\n",
       "      <td>5295.55342</td>\n",
       "      <td>15.419</td>\n",
       "      <td>0.004</td>\n",
       "    </tr>\n",
       "    <tr>\n",
       "      <th>1</th>\n",
       "      <td>5447.88508</td>\n",
       "      <td>15.483</td>\n",
       "      <td>0.004</td>\n",
       "    </tr>\n",
       "    <tr>\n",
       "      <th>2</th>\n",
       "      <td>5459.85292</td>\n",
       "      <td>15.577</td>\n",
       "      <td>0.004</td>\n",
       "    </tr>\n",
       "    <tr>\n",
       "      <th>3</th>\n",
       "      <td>5473.89486</td>\n",
       "      <td>15.171</td>\n",
       "      <td>0.004</td>\n",
       "    </tr>\n",
       "    <tr>\n",
       "      <th>4</th>\n",
       "      <td>5487.80873</td>\n",
       "      <td>15.157</td>\n",
       "      <td>0.004</td>\n",
       "    </tr>\n",
       "    <tr>\n",
       "      <th>...</th>\n",
       "      <td>...</td>\n",
       "      <td>...</td>\n",
       "      <td>...</td>\n",
       "    </tr>\n",
       "    <tr>\n",
       "      <th>258</th>\n",
       "      <td>7102.53897</td>\n",
       "      <td>15.496</td>\n",
       "      <td>0.004</td>\n",
       "    </tr>\n",
       "    <tr>\n",
       "      <th>259</th>\n",
       "      <td>7103.55263</td>\n",
       "      <td>15.519</td>\n",
       "      <td>0.004</td>\n",
       "    </tr>\n",
       "    <tr>\n",
       "      <th>260</th>\n",
       "      <td>7137.51329</td>\n",
       "      <td>15.167</td>\n",
       "      <td>0.004</td>\n",
       "    </tr>\n",
       "    <tr>\n",
       "      <th>261</th>\n",
       "      <td>7332.76368</td>\n",
       "      <td>15.273</td>\n",
       "      <td>0.004</td>\n",
       "    </tr>\n",
       "    <tr>\n",
       "      <th>262</th>\n",
       "      <td>7366.74085</td>\n",
       "      <td>15.553</td>\n",
       "      <td>0.004</td>\n",
       "    </tr>\n",
       "  </tbody>\n",
       "</table>\n",
       "<p>263 rows × 3 columns</p>\n",
       "</div>"
      ],
      "text/plain": [
       "      time_days  magnitude  error\n",
       "0    5295.55342     15.419  0.004\n",
       "1    5447.88508     15.483  0.004\n",
       "2    5459.85292     15.577  0.004\n",
       "3    5473.89486     15.171  0.004\n",
       "4    5487.80873     15.157  0.004\n",
       "..          ...        ...    ...\n",
       "258  7102.53897     15.496  0.004\n",
       "259  7103.55263     15.519  0.004\n",
       "260  7137.51329     15.167  0.004\n",
       "261  7332.76368     15.273  0.004\n",
       "262  7366.74085     15.553  0.004\n",
       "\n",
       "[263 rows x 3 columns]"
      ]
     },
     "execution_count": 3,
     "metadata": {},
     "output_type": "execute_result"
    }
   ],
   "source": [
    "data.columns=(['time_days', 'magnitude', 'error'])\n",
    "data"
   ]
  },
  {
   "cell_type": "code",
   "execution_count": 4,
   "metadata": {},
   "outputs": [],
   "source": [
    "time = data.time_days\n",
    "magn = data.magnitude\n",
    "uncert = data.error\n",
    "dy = uncert"
   ]
  },
  {
   "cell_type": "code",
   "execution_count": 5,
   "metadata": {},
   "outputs": [],
   "source": [
    "fontsize = 14\n",
    "plt.rcParams[\"font.size\"] = fontsize\n",
    "plt.rcParams[\"axes.titlesize\"] = fontsize"
   ]
  },
  {
   "cell_type": "code",
   "execution_count": 6,
   "metadata": {},
   "outputs": [
    {
     "data": {
      "text/plain": [
       "Text(0, 0.5, 'Power')"
      ]
     },
     "execution_count": 6,
     "metadata": {},
     "output_type": "execute_result"
    },
    {
     "data": {
      "image/png": "[encoded data removed]",
      "text/plain": [
       "<Figure size 432x288 with 1 Axes>"
      ]
     },
     "metadata": {
      "needs_background": "light"
     },
     "output_type": "display_data"
    }
   ],
   "source": [
    "frequency, power = LombScargle(time, magn).autopower()\n",
    "plt.plot(frequency, power) \n",
    "plt.title('Lomb-Scargle Periodogram')\n",
    "plt.xlabel('Frequency (Hz)')\n",
    "plt.ylabel('Power')"
   ]
  },
  {
   "cell_type": "code",
   "execution_count": 7,
   "metadata": {},
   "outputs": [
    {
     "data": {
      "text/plain": [
       "1651"
      ]
     },
     "execution_count": 7,
     "metadata": {},
     "output_type": "execute_result"
    }
   ],
   "source": [
    "\"\"\"To know the accurate frequency of the pick, we should first identify the maximum argument of power, and then\n",
    "use this index to find the correspondent frequency\"\"\"\n",
    "np.argmax(power) # to find the maximum argument of the power so that we can identify the position of the pick"
   ]
  },
  {
   "cell_type": "code",
   "execution_count": 8,
   "metadata": {},
   "outputs": [
    {
     "name": "stdout",
     "output_type": "stream",
     "text": [
      "0.15947373724646446\n"
     ]
    }
   ],
   "source": [
    "\"\"\"The frequency we are looking for is:\n",
    "\"\"\"\n",
    "print(frequency[1651]) # prints the frequency value of the pick"
   ]
  },
  {
   "cell_type": "code",
   "execution_count": 9,
   "metadata": {},
   "outputs": [
    {
     "data": {
      "text/plain": [
       "0.15947373724646446"
      ]
     },
     "execution_count": 9,
     "metadata": {},
     "output_type": "execute_result"
    }
   ],
   "source": [
    "freq = frequency[1651]\n",
    "freq"
   ]
  },
  {
   "cell_type": "code",
   "execution_count": 10,
   "metadata": {},
   "outputs": [
    {
     "data": {
      "text/plain": [
       "6.2706249772933695"
      ]
     },
     "execution_count": 10,
     "metadata": {},
     "output_type": "execute_result"
    }
   ],
   "source": [
    "\"\"\"After extrating the frequency that correspondes to the pick in the previous graphic, now we can calculate the\n",
    "it's related period.\"\"\"\n",
    "\n",
    "T = 1 / freq # using the frequency to calculate the periodo\n",
    "T"
   ]
  },
  {
   "cell_type": "code",
   "execution_count": 11,
   "metadata": {},
   "outputs": [
    {
     "data": {
      "text/plain": [
       "Text(0, 0.5, 'Magnitude')"
      ]
     },
     "execution_count": 11,
     "metadata": {},
     "output_type": "execute_result"
    },
    {
     "data": {
      "image/png": "[encoded data removed]",
      "text/plain": [
       "<Figure size 432x288 with 1 Axes>"
      ]
     },
     "metadata": {
      "needs_background": "light"
     },
     "output_type": "display_data"
    }
   ],
   "source": [
    "\"\"\"When we plot the real data it looks messy, look the following graphic:\"\"\"\n",
    "\n",
    "plt.plot(time, magn) # plot of the real data\n",
    "plt.title(\"Real Data\")\n",
    "plt.xlabel(\"Time (days)\")\n",
    "plt.ylabel(\"Magnitude\")"
   ]
  },
  {
   "cell_type": "code",
   "execution_count": 12,
   "metadata": {},
   "outputs": [
    {
     "ename": "NameError",
     "evalue": "name 'matplotlib' is not defined",
     "output_type": "error",
     "traceback": [
      "\u001b[0;31m---------------------------------------------------------------------------\u001b[0m",
      "\u001b[0;31mNameError\u001b[0m                                 Traceback (most recent call last)",
      "\u001b[0;32m<ipython-input-12-509cf258e9ee>\u001b[0m in \u001b[0;36m<module>\u001b[0;34m\u001b[0m\n\u001b[1;32m      1\u001b[0m \u001b[0;34m\"\"\"When we plot the real data it looks messy, look the following graphic:\"\"\"\u001b[0m\u001b[0;34m\u001b[0m\u001b[0;34m\u001b[0m\u001b[0m\n\u001b[0;32m----> 2\u001b[0;31m \u001b[0mfig\u001b[0m \u001b[0;34m=\u001b[0m \u001b[0mmatplotlib\u001b[0m\u001b[0;34m.\u001b[0m\u001b[0mpyplot\u001b[0m\u001b[0;34m.\u001b[0m\u001b[0mgcf\u001b[0m\u001b[0;34m(\u001b[0m\u001b[0;34m)\u001b[0m\u001b[0;34m\u001b[0m\u001b[0;34m\u001b[0m\u001b[0m\n\u001b[0m\u001b[1;32m      3\u001b[0m \u001b[0;31m#fig.set_size_inches(30, 10)\u001b[0m\u001b[0;34m\u001b[0m\u001b[0;34m\u001b[0m\u001b[0;34m\u001b[0m\u001b[0m\n\u001b[1;32m      4\u001b[0m \u001b[0;34m\u001b[0m\u001b[0m\n\u001b[1;32m      5\u001b[0m \u001b[0mplt\u001b[0m\u001b[0;34m.\u001b[0m\u001b[0mscatter\u001b[0m\u001b[0;34m(\u001b[0m\u001b[0mtime\u001b[0m\u001b[0;34m,\u001b[0m \u001b[0mmagn\u001b[0m\u001b[0;34m)\u001b[0m \u001b[0;31m# plot of the real data\u001b[0m\u001b[0;34m\u001b[0m\u001b[0;34m\u001b[0m\u001b[0m\n",
      "\u001b[0;31mNameError\u001b[0m: name 'matplotlib' is not defined"
     ]
    }
   ],
   "source": [
    "\"\"\"When we plot the real data it looks messy, look the following graphic:\"\"\"\n",
    "fig = matplotlib.pyplot.gcf()\n",
    "#fig.set_size_inches(30, 10)\n",
    "\n",
    "plt.scatter(time, magn) # plot of the real data\n",
    "plt.title(\"Real Data\")\n",
    "plt.xlabel(\"Time (days)\")\n",
    "plt.ylabel(\"Magnitude\")\n",
    "plt.xlim(5490,5520)"
   ]
  },
  {
   "cell_type": "code",
   "execution_count": null,
   "metadata": {},
   "outputs": [],
   "source": [
    "# This algorithm computes the Lomb-Scargle Periodogram.\n",
    "import numpy as np\n",
    "import matplotlib.pyplot as plt\n",
    "import math\n",
    "import scipy\n",
    "from scipy.optimize import curve_fit  \n",
    "wmin = 1.0e-04                 # minimum frequency \n",
    "wmax = 5.0e-02              # maximum frequency\n",
    "freq = np.linspace(wmin,wmax,5000)\n",
    "from astropy.stats import LombScargle\n",
    "def func(x, a0, a1):\n",
    "  return a0 + a1*x\n",
    "#def func(x, a0, a1, a2, a3, a4, a5):\n",
    "#  return a0 + a1*x + a2*x*x+ a3*x**3 + a4*x**4 + a5*x**5\n",
    "#dy = 0.1\n",
    "#t,A,B,C,D,E,F,dyy = np.loadtxt('methanol_peaks02.csv', unpack = True)\n",
    "#B,t = np.loadtxt('merged-file1', unpack = True)\n",
    "B = magn\n",
    "t = time\n",
    "#ts = data[1:,i]\n",
    "n = len(B)\n",
    "m = len(t)\n",
    "tsnew = np.empty(m)\n",
    "dy = uncert#np.full(m,0.1)\n",
    "p0 = [10, -0.001]\n",
    "popt, pcov = curve_fit(func, t, B, p0)\n",
    "#print(popt)\n",
    "fitfunc2 = func(t, popt[0], popt[1])\n",
    "for j in range(0,len(B)):\n",
    "    tsnew[j] = B[j] - fitfunc2[j]\n",
    "ls = LombScargle(t,tsnew,dy)\n",
    "nu, power = ls.autopower()\n",
    "power = LombScargle(t,tsnew,dy).power(freq)\n",
    "fileout = open(\"merged-file\",\"w\")\n",
    "print(1.0e0/freq[np.argmax(power)])\n",
    "print(freq[np.argmax(power)])\n",
    "pmax = (max(power))\n",
    "#print(ls.false_alarm_probability(power.max()))\n",
    "probabilities = [0.1, 0.05, 0.001]\n",
    "#plevel = (ls.false_alarm_level(probabilities))\n",
    "#plt.axes().set_aspect('1')\n",
    "plt.clf()\n",
    "plt.cla()\n",
    "plt.xlim(wmin,wmax)\n",
    "#plt.ylim(15,52)\n",
    "\n",
    "plt.xlabel('Frequency (day$^{-1}$)',fontsize=18)\n",
    "plt.ylabel('Power',fontsize=18)\n",
    "#plt.plot(freq,power1,'--', color='b',label='OH 1667 MHz; P=216.1 days')\n",
    "#plt.plot(freq,power3, '-.',color='r',label='OH 1665 MHz; P=215.9 days')\n",
    "plt.plot(freq,power,'-', color='k',label='CH$_3$OH 6.7 GHz; P= 201 days')\n",
    "#plt.axvline(freq[np.argmax(power2)], color='k', linestyle='--',linewidth=0.75)\n",
    "#plt.axhline(plevel[2], color='k', linestyle='--',linewidth=0.75)\n",
    "#plt.axhline(max(power3)/2, color='k', linestyle='--',linewidth=0.75)\n",
    "#plt.text(0.006,y1,'Half max 1667 MHz')\n",
    "#plt.text(0.006,y2,'Half max 1665 MHz')\n",
    "#plt.legend(frameon=False)\n",
    "#plt.savefig('LSpgrams.pdf')\n",
    "#plt.savefig('LSpgrams.eps')\n",
    "for i in range(n):\n",
    "    fileout.write(\"%15.9e  %15.9e \\n\"% (freq[i],power[i]))\n",
    "fileout.close()\n",
    "plt.show()\n",
    "plt.clf()\n",
    "plt.cla()\n",
    "plt.close()\n",
    "\n",
    "!pwd"
   ]
  },
  {
   "cell_type": "code",
   "execution_count": null,
   "metadata": {},
   "outputs": [],
   "source": [
    "\"\"\"The plotting of mangnitude in function of phase looks like the following\"\"\"\n",
    "\n"
   ]
  },
  {
   "cell_type": "code",
   "execution_count": null,
   "metadata": {},
   "outputs": [],
   "source": [
    "phase = (time / T) % 1\n",
    "marker = '.'\n",
    "ms = 10\n",
    "lw = 1\n",
    "color = 'gray'\n",
    "alpha = 0.6 \n",
    "fig, ax = plt.subplots(figsize=(10,7))\n",
    "\n",
    "ax.errorbar(phase,magn,yerr=dy,marker=marker,ms=ms,ls='none',lw=lw,color=color,alpha=alpha)\n",
    "ax.set_title(\"Phased Light_Curve\")\n",
    "ax.set_ylabel(\"Magnitude\")\n",
    "ax.set_xlabel(\"Phase (days)\")\n",
    "plt.show()"
   ]
  },
  {
   "cell_type": "code",
   "execution_count": null,
   "metadata": {},
   "outputs": [],
   "source": []
  },
  {
   "cell_type": "code",
   "execution_count": null,
   "metadata": {},
   "outputs": [],
   "source": []
  },
  {
   "cell_type": "code",
   "execution_count": null,
   "metadata": {},
   "outputs": [],
   "source": []
  },
  {
   "cell_type": "code",
   "execution_count": null,
   "metadata": {},
   "outputs": [],
   "source": []
  },
  {
   "cell_type": "code",
   "execution_count": null,
   "metadata": {},
   "outputs": [],
   "source": []
  }
 ],
 "metadata": {
  "kernelspec": {
   "display_name": "Python 3",
   "language": "python",
   "name": "python3"
  },
  "language_info": {
   "codemirror_mode": {
    "name": "ipython",
    "version": 3
   },
   "file_extension": ".py",
   "mimetype": "text/x-python",
   "name": "python",
   "nbconvert_exporter": "python",
   "pygments_lexer": "ipython3",
   "version": "3.8.5"
  }
 },
 "nbformat": 4,
 "nbformat_minor": 4
}
