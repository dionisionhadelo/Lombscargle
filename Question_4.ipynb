{
 "cells": [
  {
   "cell_type": "code",
   "execution_count": null,
   "metadata": {},
   "outputs": [],
   "source": [
    "\"\"\"Importing the necessary libraries and packages\n",
    "\"\"\"\n",
    "\n",
    "import numpy as np\n",
    "import pandas as pd\n",
    "import matplotlib\n",
    "import matplotlib.pyplot as plt\n",
    "from astropy.timeseries import LombScargle"
   ]
  },
  {
   "cell_type": "code",
   "execution_count": null,
   "metadata": {},
   "outputs": [],
   "source": [
    "\"\"\"Load and visualize the data\n",
    "\"\"\"\n",
    "data = pd.read_fwf('variable.dat')\n",
    "#data"
   ]
  },
  {
   "cell_type": "code",
   "execution_count": null,
   "metadata": {},
   "outputs": [],
   "source": [
    "\"\"\"Adding names to the columns\n",
    "\"\"\"\n",
    "data.columns=(['time_days', 'magnitude', 'error'])\n",
    "data"
   ]
  },
  {
   "cell_type": "code",
   "execution_count": null,
   "metadata": {},
   "outputs": [],
   "source": [
    "\"\"\"Storing the columns values to variables\n",
    "\"\"\"\n",
    "time = data.time_days\n",
    "magn = data.magnitude\n",
    "uncert = data.error"
   ]
  },
  {
   "cell_type": "code",
   "execution_count": null,
   "metadata": {},
   "outputs": [],
   "source": [
    "\"\"\"Setting up the plotting font size\n",
    "\"\"\"\n",
    "fontsize = 14\n",
    "plt.rcParams[\"font.size\"] = fontsize\n",
    "plt.rcParams[\"axes.titlesize\"] = fontsize"
   ]
  },
  {
   "cell_type": "code",
   "execution_count": null,
   "metadata": {},
   "outputs": [],
   "source": [
    "\"\"\"Plotting the Lomb_Scargle Periodogram\n",
    "\"\"\"\n",
    "frequency, power = LombScargle(time, magn).autopower()\n",
    "plt.plot(frequency, power) \n",
    "plt.title('Lomb-Scargle Periodogram')\n",
    "plt.xlabel('Frequency')\n",
    "plt.ylabel('Power')\n",
    "plt.savefig(\"Lomb-Scargle Periodogram\")"
   ]
  },
  {
   "cell_type": "code",
   "execution_count": null,
   "metadata": {},
   "outputs": [],
   "source": [
    "\"\"\"To know the accurate frequency of the spick, we should first identify the maximum argument of power, and then\n",
    "use this index to find the correspondent frequency\"\"\"\n",
    "np.argmax(power) # to find the maximum argument of the power so that we can identify the position of the pick"
   ]
  },
  {
   "cell_type": "code",
   "execution_count": null,
   "metadata": {},
   "outputs": [],
   "source": [
    "\"\"\"The frequency we are looking for is:\n",
    "\"\"\"\n",
    "freq = frequency[np.argmax(power)]\n",
    "freq"
   ]
  },
  {
   "cell_type": "code",
   "execution_count": null,
   "metadata": {},
   "outputs": [],
   "source": [
    "\"\"\"After extrating the frequency that correspondes to the pick in the previous graphic, now we can calculate the\n",
    "it's related period.\"\"\"\n",
    "P = 1 / freq # using the frequency to calculate the period\n",
    "P"
   ]
  },
  {
   "cell_type": "code",
   "execution_count": null,
   "metadata": {},
   "outputs": [],
   "source": [
    "#### The apparent magnitude will be the mean of the observed apparent magnitude\n",
    "\n",
    "apparent_magnitude = magn.mean()\n",
    "apparent_magnitude"
   ]
  },
  {
   "cell_type": "code",
   "execution_count": null,
   "metadata": {},
   "outputs": [],
   "source": [
    "#### The absolute visual magnitude can be computed from an equation that evolves the pulsating period of the \n",
    "#### Cepheid M = -2.77*log10(P)-1.40\n",
    "\n",
    "absolute_magnitude = -2.77*np.log10(P) - 1.40\n",
    "absolute_magnitude"
   ]
  },
  {
   "cell_type": "code",
   "execution_count": null,
   "metadata": {},
   "outputs": [],
   "source": [
    "d = 10**((apparent_magnitude - absolute_magnitude + 5) / 5)\n",
    "print('The distance for the Cepheid is {} pc'.format(d))"
   ]
  },
  {
   "cell_type": "code",
   "execution_count": null,
   "metadata": {},
   "outputs": [],
   "source": [
    "### The distance in km is:\n",
    "d = d*3.086e+13\n",
    "print(\"The distance in km is {}\".format(d))"
   ]
  },
  {
   "cell_type": "code",
   "execution_count": null,
   "metadata": {},
   "outputs": [],
   "source": []
  }
 ],
 "metadata": {
  "kernelspec": {
   "display_name": "Python 3",
   "language": "python",
   "name": "python3"
  },
  "language_info": {
   "codemirror_mode": {
    "name": "ipython",
    "version": 3
   },
   "file_extension": ".py",
   "mimetype": "text/x-python",
   "name": "python",
   "nbconvert_exporter": "python",
   "pygments_lexer": "ipython3",
   "version": "3.8.5"
  }
 },
 "nbformat": 4,
 "nbformat_minor": 4
}
