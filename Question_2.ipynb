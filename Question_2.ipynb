{
 "cells": [
  {
   "cell_type": "code",
   "execution_count": null,
   "metadata": {},
   "outputs": [],
   "source": [
    "import matplotlib.pyplot as plt\n",
    "import numpy as np"
   ]
  },
  {
   "cell_type": "code",
   "execution_count": null,
   "metadata": {},
   "outputs": [],
   "source": [
    "\"\"\"Setting up the plotting font size\n",
    "\"\"\"\n",
    "\n",
    "fontsize = 12\n",
    "plt.rcParams[\"font.size\"] = fontsize\n",
    "plt.rcParams[\"axes.titlesize\"] = fontsize"
   ]
  },
  {
   "cell_type": "code",
   "execution_count": null,
   "metadata": {},
   "outputs": [],
   "source": [
    "#### The signal and signal components\n",
    "w1 = 2\n",
    "w2 = 4\n",
    "x = np.linspace(-3.0, 3.0, 1000)\n",
    "y = 1.0*np.sin(2.0*np.pi*w1*x) + 1.0*np.sin(2.0*np.pi*w2*x) \n",
    "\n",
    "# Periodogram\n",
    "fft = np.fft.fft(y)\n",
    "#fft = np.fft.fftshift(fft) \n",
    "T = x[1] - x[0] # 0.001 -> 1/T = 1000\n",
    "N = y.size\n",
    "\n",
    "#### Components of the frequence\n",
    "f = np.fft.fftfreq(len(y), T)\n",
    "frequencias = f[:N // 2]\n",
    "amplitudes = np.abs(fft)[:N // 2] * 1 / N\n",
    "\n",
    "fig, axes = plt.subplots(nrows=1, ncols=2, figsize=(13, 6))\n",
    "\n",
    "#### Plotting the signal\n",
    "axes[0].plot(x, y)\n",
    "axes[0].set_ylabel(\"y\")\n",
    "axes[0].set_xlabel(\"x\")\n",
    "axes[0].set_title('Signal')\n",
    "\n",
    "#### Plotting the periodogram\n",
    "axes[1].plot(frequencias, amplitudes)\n",
    "axes[1].set_ylabel(\"Amplitude\")\n",
    "axes[1].set_xlabel(\"Frequency (Hz)\")\n",
    "axes[1].set_title('Periodogram')\n",
    "plt.savefig(\"Mini_project_Question_2_Periodogram.png\")\n",
    "\n",
    "\n",
    "fig.tight_layout(pad=5.0)\n",
    "plt.show()"
   ]
  },
  {
   "cell_type": "code",
   "execution_count": null,
   "metadata": {},
   "outputs": [],
   "source": []
  },
  {
   "cell_type": "code",
   "execution_count": null,
   "metadata": {},
   "outputs": [],
   "source": []
  }
 ],
 "metadata": {
  "kernelspec": {
   "display_name": "Python 3",
   "language": "python",
   "name": "python3"
  },
  "language_info": {
   "codemirror_mode": {
    "name": "ipython",
    "version": 3
   },
   "file_extension": ".py",
   "mimetype": "text/x-python",
   "name": "python",
   "nbconvert_exporter": "python",
   "pygments_lexer": "ipython3",
   "version": "3.8.5"
  }
 },
 "nbformat": 4,
 "nbformat_minor": 4
}
