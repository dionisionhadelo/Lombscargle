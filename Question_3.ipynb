{
 "cells": [
  {
   "cell_type": "code",
   "execution_count": null,
   "metadata": {},
   "outputs": [],
   "source": [
    "\"\"\"Importing the necessary libraries and packages\n",
    "\"\"\"\n",
    "import numpy as np\n",
    "import pandas as pd\n",
    "import matplotlib\n",
    "import matplotlib.pyplot as plt\n",
    "from astropy.timeseries import LombScargle"
   ]
  },
  {
   "cell_type": "code",
   "execution_count": null,
   "metadata": {},
   "outputs": [],
   "source": [
    "\"\"\"Load and visualize the data\n",
    "\"\"\"\n",
    "data = pd.read_fwf('variable.dat')\n",
    "#data"
   ]
  },
  {
   "cell_type": "code",
   "execution_count": null,
   "metadata": {},
   "outputs": [],
   "source": [
    "\"\"\"Adding names to the columns\n",
    "\"\"\"\n",
    "data.columns=(['time_days', 'magnitude', 'error'])\n",
    "data"
   ]
  },
  {
   "cell_type": "code",
   "execution_count": null,
   "metadata": {},
   "outputs": [],
   "source": [
    "\"\"\"Storing the columns values to variables\n",
    "\"\"\"\n",
    "time = data.time_days\n",
    "magn = data.magnitude\n",
    "uncert = data.error"
   ]
  },
  {
   "cell_type": "code",
   "execution_count": null,
   "metadata": {},
   "outputs": [],
   "source": [
    "\"\"\"Setting up the plotting font size\n",
    "\"\"\"\n",
    "fontsize = 12\n",
    "plt.rcParams[\"font.size\"] = fontsize\n",
    "plt.rcParams[\"axes.titlesize\"] = fontsize"
   ]
  },
  {
   "cell_type": "code",
   "execution_count": null,
   "metadata": {},
   "outputs": [],
   "source": [
    "\"\"\"Plotting the Lomb_Scargle Periodogram\n",
    "\"\"\"\n",
    "frequency, power = LombScargle(time, magn).autopower()\n",
    "plt.plot(frequency, power) \n",
    "plt.title('Lomb-Scargle Periodogram')\n",
    "plt.xlabel('Frequency')\n",
    "plt.ylabel('Power')\n",
    "plt.savefig(\"Lomb-Scargle Periodogram\")"
   ]
  },
  {
   "cell_type": "code",
   "execution_count": null,
   "metadata": {},
   "outputs": [],
   "source": [
    "\"\"\"To know the accurate frequency of the spick, we should first identify the maximum argument of power, and then\n",
    "use this index to find the correspondent frequency\"\"\"\n",
    "np.argmax(power) # to find the maximum argument of the power so that we can identify the position of the pick"
   ]
  },
  {
   "cell_type": "code",
   "execution_count": null,
   "metadata": {},
   "outputs": [],
   "source": [
    "\"\"\"The frequency we are looking for is:\n",
    "\"\"\"\n",
    "freq = frequency[1651]\n",
    "freq"
   ]
  },
  {
   "cell_type": "code",
   "execution_count": null,
   "metadata": {},
   "outputs": [],
   "source": [
    "frequency[np.argmax(power)]"
   ]
  },
  {
   "cell_type": "code",
   "execution_count": null,
   "metadata": {},
   "outputs": [],
   "source": [
    "\"\"\"After extrating the frequency that correspondes to the pick in the previous graphic, now we can calculate the\n",
    "it's related period.\"\"\"\n",
    "period = 1 / freq # using the frequency to calculate the periodo\n",
    "period "
   ]
  },
  {
   "cell_type": "code",
   "execution_count": null,
   "metadata": {},
   "outputs": [],
   "source": [
    "\"\"\"When we plot the real data it looks messy, look the following graphic:\"\"\"\n",
    "\n",
    "plt.scatter(time, magn) # plot of the real data\n",
    "plt.title(\"Real Data\")\n",
    "plt.xlabel(\"Time (days)\")\n",
    "plt.ylabel(\"Magnitude\")\n",
    "plt.savefig(\"Real_Cepheid_Data.png\")"
   ]
  },
  {
   "cell_type": "code",
   "execution_count": null,
   "metadata": {},
   "outputs": [],
   "source": [
    "dy = uncert\n",
    "spike_frequency = frequency[np.argmax(power)]\n",
    "\n",
    "t_fit = np.linspace(0,1)\n",
    "\n",
    "ls = LombScargle(time, magn)\n",
    "\n",
    "y_fit = ls.model(t_fit, spike_frequency)"
   ]
  },
  {
   "cell_type": "code",
   "execution_count": null,
   "metadata": {},
   "outputs": [],
   "source": [
    "phase = (time / period) % 1### to ignore the integer part\n",
    "marker = '.'\n",
    "ms = 10\n",
    "lw = 1\n",
    "color = 'gray'\n",
    "alpha = 0.6 \n",
    "fig, ax = plt.subplots(figsize=(10,7))\n",
    "\n",
    "ax.errorbar(phase, magn, yerr=dy, marker=marker, ms=ms, ls='none', lw=lw, color=color, alpha=alpha)\n",
    "ax.errorbar(phase+1, magn, yerr=dy, marker=marker, ms=ms, ls='none', lw=lw, color=color, alpha=alpha)\n",
    "\n",
    "ax.set_title(\"Folded Light Curve\")\n",
    "ax.set_ylabel(\"Magnitude\")\n",
    "ax.set_xlabel(\"Phase\")\n",
    "plt.savefig(\"Folded_Light_Curve.png\")\n",
    "plt.show()"
   ]
  },
  {
   "cell_type": "markdown",
   "metadata": {},
   "source": [
    "The reason the plot of the original data looks messy is that we are plotting raw data and it's over a fairly long time period and the object may not have been observed very many times in one night and because of the gaps in the data, so there's a big change from night to night.When we phase the Cepheid data, the Light Curve folding overlap the data, hence we can clearly see what is the periodicity of the data. In a Cepheids plots we are surposed to see one maximum and one minimum per period."
   ]
  },
  {
   "cell_type": "code",
   "execution_count": null,
   "metadata": {},
   "outputs": [],
   "source": [
    "phase"
   ]
  }
 ],
 "metadata": {
  "kernelspec": {
   "display_name": "Python 3",
   "language": "python",
   "name": "python3"
  },
  "language_info": {
   "codemirror_mode": {
    "name": "ipython",
    "version": 3
   },
   "file_extension": ".py",
   "mimetype": "text/x-python",
   "name": "python",
   "nbconvert_exporter": "python",
   "pygments_lexer": "ipython3",
   "version": "3.8.5"
  }
 },
 "nbformat": 4,
 "nbformat_minor": 4
}
