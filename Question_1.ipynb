{
 "cells": [
  {
   "cell_type": "code",
   "execution_count": null,
   "metadata": {},
   "outputs": [],
   "source": [
    "import numpy as np\n",
    "import matplotlib.pyplot as plt"
   ]
  },
  {
   "cell_type": "code",
   "execution_count": null,
   "metadata": {},
   "outputs": [],
   "source": [
    "\"\"\"Setting up the plotting font size\n",
    "\"\"\"\n",
    "\n",
    "fontsize = 14\n",
    "plt.rcParams[\"font.size\"] = fontsize\n",
    "plt.rcParams[\"axes.titlesize\"] = fontsize"
   ]
  },
  {
   "cell_type": "code",
   "execution_count": null,
   "metadata": {},
   "outputs": [],
   "source": [
    "#### Creatting the top hat signal\n",
    "x = np.linspace(-3,3,128)\n",
    "y = np.zeros(len(x))\n",
    "for i in range(x.shape[0]):\n",
    "    if x[i] > -1.0 and x[i] < 1.0:\n",
    "        y[i] = 1.0\n",
    "\n",
    "#### Plotting the top hat signal\n",
    "fig, axes = plt.subplots(nrows=1, ncols=2, figsize=(15, 7))\n",
    "plt.grid(False)\n",
    "axes[0].plot(x, y)\n",
    "axes[0].set_ylabel(\"y\")\n",
    "axes[0].set_xlabel(\"x\")\n",
    "axes[0].set_title(\"Original Function\")\n",
    "\n",
    "#### Doing the FFT of the top hat signal\n",
    "N = 128 # Number of samplepoints\n",
    "T = 1.0 / 45.0 # sample spacing\n",
    "xf = np.linspace(-1.5/(2.5*np.pi*T), 1.5/(2.5*np.pi*T), N)\n",
    "yf = np.fft.fft(y, len(xf))\n",
    "yf = np.fft.fftshift(yf)\n",
    "\n",
    "#### Plotting the FFT of the Top Hat Signal\n",
    "axes[1].plot(xf, np.real(yf))\n",
    "axes[1].set_ylabel(\"Power\")\n",
    "axes[1].set_xlabel(\"Frequency\")\n",
    "axes[1].set_title(\"Fourier Transform\")\n",
    "\n",
    "fig.tight_layout(pad=2.0)\n",
    "plt.savefig(\"Top_Hat_signal_&_it's_FFT.png\")\n",
    "plt.show()"
   ]
  },
  {
   "cell_type": "code",
   "execution_count": null,
   "metadata": {},
   "outputs": [],
   "source": []
  }
 ],
 "metadata": {
  "kernelspec": {
   "display_name": "Python 3",
   "language": "python",
   "name": "python3"
  },
  "language_info": {
   "codemirror_mode": {
    "name": "ipython",
    "version": 3
   },
   "file_extension": ".py",
   "mimetype": "text/x-python",
   "name": "python",
   "nbconvert_exporter": "python",
   "pygments_lexer": "ipython3",
   "version": "3.8.5"
  }
 },
 "nbformat": 4,
 "nbformat_minor": 4
}
